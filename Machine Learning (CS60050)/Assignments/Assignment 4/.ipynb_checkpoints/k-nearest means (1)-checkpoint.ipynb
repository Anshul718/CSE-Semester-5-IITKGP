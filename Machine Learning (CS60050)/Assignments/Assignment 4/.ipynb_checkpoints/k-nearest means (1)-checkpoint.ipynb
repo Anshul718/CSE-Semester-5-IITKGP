{
 "cells": [
  {
   "cell_type": "code",
   "execution_count": 97,
   "metadata": {},
   "outputs": [],
   "source": [
    "import numpy as np\n",
    "import csv"
   ]
  },
  {
   "cell_type": "code",
   "execution_count": 98,
   "metadata": {},
   "outputs": [],
   "source": [
    "def read_input(fileAddress):\n",
    "    data = [];\n",
    "    with open(fileAddress) as csvFile:\n",
    "        csvReader = csv.reader(csvFile)\n",
    "        for row in csvReader:\n",
    "            data.append(row[0:5])\n",
    "    data = np.asarray(data);\n",
    "    return data"
   ]
  },
  {
   "cell_type": "code",
   "execution_count": 99,
   "metadata": {},
   "outputs": [],
   "source": [
    "def unique_list(d):\n",
    "    tmp =[]\n",
    "    for x in d:\n",
    "        tmp.append(x)\n",
    "    return np.unique(tmp)"
   ]
  },
  {
   "cell_type": "code",
   "execution_count": 100,
   "metadata": {},
   "outputs": [],
   "source": [
    "def get_index_list(unique, data):\n",
    "    list_ = []\n",
    "    for x in unique:\n",
    "        index = np.where(data==x)\n",
    "        list_.append(index)\n",
    "    return list_"
   ]
  },
  {
   "cell_type": "code",
   "execution_count": 101,
   "metadata": {},
   "outputs": [],
   "source": [
    "# initialisation\n",
    "def init(data,k):    \n",
    "    index = np.random.choice(len(data),k,replace=False)\n",
    "    return data[index]   "
   ]
  },
  {
   "cell_type": "code",
   "execution_count": 102,
   "metadata": {},
   "outputs": [],
   "source": [
    "def distance(a,b):\n",
    "    x = ((float(a[0])-float(b[0]))**2 + ((float(a[1])-float(b[1]))**2))\n",
    "    x+= ((float(a[2])-float(b[2]))**2 + ((float(a[3])-float(b[3]))**2))\n",
    "    return x"
   ]
  },
  {
   "cell_type": "code",
   "execution_count": 103,
   "metadata": {},
   "outputs": [],
   "source": [
    "def closest(means, x):\n",
    "    nearest = -1;\n",
    "    minDist = float(\"inf\")\n",
    "    count=0\n",
    "    for a in means:\n",
    "        d = distance(a,x)\n",
    "        if(d<=minDist):\n",
    "            minDist = d\n",
    "            nearest = count\n",
    "        count+=1\n",
    "    return nearest"
   ]
  },
  {
   "cell_type": "code",
   "execution_count": 104,
   "metadata": {},
   "outputs": [],
   "source": [
    "def get_buckets_modified(means):\n",
    "    bucket = []\n",
    "    for j in range(0,3):\n",
    "        temp = []\n",
    "        temp = np.asarray(temp,dtype=np.int16)\n",
    "        bucket.append(temp)\n",
    "#     print(data.shape)\n",
    "    for x in range(data.shape[0]):\n",
    "        i = closest(means,data[x])\n",
    "        bucket[i] = np.append(bucket[i],x)\n",
    "    bucket = np.asarray(bucket)\n",
    "    return bucket"
   ]
  },
  {
   "cell_type": "code",
   "execution_count": 105,
   "metadata": {},
   "outputs": [],
   "source": [
    "def calc_new_mean_modified(bucket):\n",
    "    means = []\n",
    "    for i in range(bucket.shape[0]):\n",
    "        temp  = [0.0,0.0,0.0,0.0]\n",
    "#         print(bucket[i].shape)\n",
    "        for j in bucket[i]:\n",
    "            for k in range(len(temp)):\n",
    "                temp[k] += float(data[j][k])\n",
    "        for k in range(len(temp)):\n",
    "            temp[k] /= (bucket[i].shape[0])        \n",
    "        means.append(temp)\n",
    "#     print('\\n')\n",
    "    return means"
   ]
  },
  {
   "cell_type": "code",
   "execution_count": 106,
   "metadata": {},
   "outputs": [],
   "source": [
    "def k_means_iteration_modified(iteration,means):\n",
    "    for i in range(iterations):\n",
    "        bucket = get_buckets_modified(means)\n",
    "        means  = calc_new_mean_modified(bucket)\n",
    "    return means, bucket"
   ]
  },
  {
   "cell_type": "code",
   "execution_count": 107,
   "metadata": {},
   "outputs": [],
   "source": [
    "data = read_input('data4_19.csv')\n",
    "unique = unique_list(data[:,4])\n",
    "index_list = get_index_list(unique,data[:,4])"
   ]
  },
  {
   "cell_type": "code",
   "execution_count": 108,
   "metadata": {},
   "outputs": [],
   "source": [
    "k=3\n",
    "means = init(data,k)"
   ]
  },
  {
   "cell_type": "code",
   "execution_count": 1,
   "metadata": {},
   "outputs": [],
   "source": [
    "def calc_jd(bucket,index_list):\n",
    "    min_ind = -1\n",
    "    min_d = 2\n",
    "    for i in range(len(index_list)):\n",
    "        d = 1.0\n",
    "        intersection = np.intersect1d(bucket,index_list[i]).shape[0]\n",
    "        union = np.union1d(bucket,index_list[i]).shape[0]\n",
    "        d -= intersection/union\n",
    "        if(d<min_d):\n",
    "            min_d=d\n",
    "            min_ind=i\n",
    "    return min_d, min_ind"
   ]
  },
  {
   "cell_type": "code",
   "execution_count": 2,
   "metadata": {},
   "outputs": [],
   "source": [
    "def print_jaccard_dist(bucket, mean, index_list, unique_list):\n",
    "    for i in range(len(bucket)):\n",
    "        jd, jind = calc_jd(bucket[i],index_list)\n",
    "        print(\"Jaccard dist for cluster \",i,\"\\n\\t mean : \", mean[i], \"\\n\\t with \",  unique_list[jind], \"\\n\\t is \", jd,\"\\n\")"
   ]
  },
  {
   "cell_type": "code",
   "execution_count": null,
   "metadata": {},
   "outputs": [],
   "source": []
  },
  {
   "cell_type": "code",
   "execution_count": 3,
   "metadata": {},
   "outputs": [
    {
     "ename": "NameError",
     "evalue": "name 'get_buckets_modified' is not defined",
     "output_type": "error",
     "traceback": [
      "\u001b[1;31m---------------------------------------------------------------------------\u001b[0m",
      "\u001b[1;31mNameError\u001b[0m                                 Traceback (most recent call last)",
      "\u001b[1;32m<ipython-input-3-ca43c7b0c9d5>\u001b[0m in \u001b[0;36m<module>\u001b[1;34m\u001b[0m\n\u001b[0;32m      1\u001b[0m \u001b[0miterations\u001b[0m \u001b[1;33m=\u001b[0m \u001b[1;36m10\u001b[0m\u001b[1;33m\u001b[0m\u001b[1;33m\u001b[0m\u001b[0m\n\u001b[1;32m----> 2\u001b[1;33m \u001b[0mbucket\u001b[0m \u001b[1;33m=\u001b[0m \u001b[0mget_buckets_modified\u001b[0m\u001b[1;33m(\u001b[0m\u001b[0mmeans\u001b[0m\u001b[1;33m)\u001b[0m\u001b[1;33m\u001b[0m\u001b[1;33m\u001b[0m\u001b[0m\n\u001b[0m\u001b[0;32m      3\u001b[0m \u001b[0mmeans_f\u001b[0m\u001b[1;33m,\u001b[0m \u001b[0mbucket_f\u001b[0m \u001b[1;33m=\u001b[0m \u001b[0mk_means_iteration_modified\u001b[0m\u001b[1;33m(\u001b[0m\u001b[0miterations\u001b[0m\u001b[1;33m,\u001b[0m\u001b[0mmeans\u001b[0m\u001b[1;33m)\u001b[0m\u001b[1;33m\u001b[0m\u001b[1;33m\u001b[0m\u001b[0m\n\u001b[0;32m      4\u001b[0m \u001b[0mprint_jaccard_dist\u001b[0m\u001b[1;33m(\u001b[0m\u001b[0mbucket_f\u001b[0m\u001b[1;33m,\u001b[0m\u001b[0mmeans_f\u001b[0m\u001b[1;33m,\u001b[0m\u001b[0mindex_list\u001b[0m\u001b[1;33m,\u001b[0m\u001b[0munique\u001b[0m\u001b[1;33m)\u001b[0m\u001b[1;33m\u001b[0m\u001b[1;33m\u001b[0m\u001b[0m\n\u001b[0;32m      5\u001b[0m \u001b[1;31m# print(\"Jaccard dist for cluster %d is %.2f\" % 1 ,calc_jd(bucket_f[0],index_list))\u001b[0m\u001b[1;33m\u001b[0m\u001b[1;33m\u001b[0m\u001b[1;33m\u001b[0m\u001b[0m\n",
      "\u001b[1;31mNameError\u001b[0m: name 'get_buckets_modified' is not defined"
     ]
    }
   ],
   "source": [
    "iterations = 10\n",
    "bucket = get_buckets_modified(means)\n",
    "means_f, bucket_f = k_means_iteration_modified(iterations,means)\n",
    "print_jaccard_dist(bucket_f,means_f,index_list,unique)\n",
    "# print(\"Jaccard dist for cluster %d is %.2f\" % 1 ,calc_jd(bucket_f[0],index_list))"
   ]
  },
  {
   "cell_type": "code",
   "execution_count": null,
   "metadata": {},
   "outputs": [],
   "source": []
  }
 ],
 "metadata": {
  "kernelspec": {
   "display_name": "Python 3",
   "language": "python",
   "name": "python3"
  },
  "language_info": {
   "codemirror_mode": {
    "name": "ipython",
    "version": 3
   },
   "file_extension": ".py",
   "mimetype": "text/x-python",
   "name": "python",
   "nbconvert_exporter": "python",
   "pygments_lexer": "ipython3",
   "version": "3.7.3"
  }
 },
 "nbformat": 4,
 "nbformat_minor": 2
}
